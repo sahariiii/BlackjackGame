{
  "nbformat": 4,
  "nbformat_minor": 0,
  "metadata": {
    "colab": {
      "private_outputs": true,
      "provenance": [],
      "authorship_tag": "ABX9TyPKrDIdnyZbRf+3liPXNUyM",
      "include_colab_link": true
    },
    "kernelspec": {
      "name": "python3",
      "display_name": "Python 3"
    },
    "language_info": {
      "name": "python"
    }
  },
  "cells": [
    {
      "cell_type": "markdown",
      "metadata": {
        "id": "view-in-github",
        "colab_type": "text"
      },
      "source": [
        "<a href=\"https://colab.research.google.com/github/sahariiii/BlackjackGame/blob/master/BlackjackGame.ipynb\" target=\"_parent\"><img src=\"https://colab.research.google.com/assets/colab-badge.svg\" alt=\"Open In Colab\"/></a>"
      ]
    },
    {
      "cell_type": "markdown",
      "source": [
        "This code is a simple code for *Blackjack Game* created by **Sahar**!"
      ],
      "metadata": {
        "id": "1nqn0PfvZ52O"
      }
    },
    {
      "cell_type": "code",
      "source": [
        "import random\n",
        "\n",
        "suits = ['Hearts', 'Diamonds', 'Spades', 'Clubs']\n",
        "ranks = ['Two', 'Three', 'Four', 'Five', 'Six', 'Seven', 'Eight', 'Nine', 'Ten', 'Jack', 'Queen', 'King', 'Ace']\n",
        "values = {'Two':2, 'Three':3, 'Four':4, 'Five':5, 'Six':6, 'Seven':7, 'Eight':8, 'Nine':9, 'Ten':10, 'Jack':10,\n",
        "         'Queen':10, 'King':10, 'Ace':11}\n",
        "\n",
        "playing = True"
      ],
      "metadata": {
        "id": "IIi1n9VMZ8wW"
      },
      "execution_count": null,
      "outputs": []
    },
    {
      "cell_type": "markdown",
      "source": [
        "Create a card class"
      ],
      "metadata": {
        "id": "EdISozFmaFDA"
      }
    },
    {
      "cell_type": "code",
      "source": [
        "class Card():\n",
        "    \n",
        "    def __init__(self, suit, rank):\n",
        "        self.suit = suit\n",
        "        self.rank = rank\n",
        "        self.value = values[self.rank]\n",
        "    \n",
        "    def __str__(self):\n",
        "        return self.rank + ' of ' + self.suit\n"
      ],
      "metadata": {
        "id": "zla5dWiAaBRI"
      },
      "execution_count": null,
      "outputs": []
    },
    {
      "cell_type": "markdown",
      "source": [
        "Create a deck of cards"
      ],
      "metadata": {
        "id": "SjEEFm37aMpw"
      }
    },
    {
      "cell_type": "code",
      "source": [
        "class Deck():\n",
        "    \n",
        "    def __init__(self):\n",
        "        self.deck = []  # start with an empty list\n",
        "        for suit in suits:\n",
        "            for rank in ranks:\n",
        "                self.deck.append(Card(suit, rank))\n",
        "    \n",
        "    def __str__(self):\n",
        "        cards = ''\n",
        "        for card in self.deck:\n",
        "            cards += \"\\n\" + card.__str__()\n",
        "        return 'This deck has:\\n ' + cards\n",
        "\n",
        "    def __len__(self):\n",
        "        return len(self.deck)\n",
        "\n",
        "    def shuffle(self):\n",
        "        random.shuffle(self.deck)\n",
        "        \n",
        "    def deal(self):\n",
        "        return self.deck.pop()"
      ],
      "metadata": {
        "id": "pVyh_mRYaIco"
      },
      "execution_count": null,
      "outputs": []
    },
    {
      "cell_type": "markdown",
      "source": [
        "Create the player hand "
      ],
      "metadata": {
        "id": "9P1eEk3WaVpj"
      }
    },
    {
      "cell_type": "code",
      "source": [
        "class Hand():\n",
        "    def __init__(self):\n",
        "        self.cards = []  # start with an empty list as we did in the Deck class\n",
        "        self.value = 0   # start with zero value\n",
        "        self.aces = 0    # add an attribute to keep track of aces\n",
        "    \n",
        "    def __len__(self):\n",
        "        return len(self.cards)\n",
        "    \n",
        "    def add_card(self,card):\n",
        "        self.cards.append(card)\n",
        "        self.value += card.value\n",
        "    \n",
        "    def adjust_for_ace(self):\n",
        "        for card in self.cards:\n",
        "            self.value += card.value\n",
        "        if 'ace' in self.cards:\n",
        "            if int(self.value) > 10:\n",
        "                  self.value -= 10\n"
      ],
      "metadata": {
        "id": "jJdQl9jyaXQ2"
      },
      "execution_count": null,
      "outputs": []
    },
    {
      "cell_type": "markdown",
      "source": [
        "Player Chips "
      ],
      "metadata": {
        "id": "WpxYMmTHaaZy"
      }
    },
    {
      "cell_type": "code",
      "source": [
        "class Chips():\n",
        "    \n",
        "    def __init__(self):\n",
        "        self.total = 100  # This can be set to a default value or supplied by a user input\n",
        "        self.bet = 0 \n",
        "        \n",
        "    def __str__(self):\n",
        "        return str(self.total)\n",
        "\n",
        "    def win_bet(self, bet):\n",
        "        self.total += bet\n",
        "    \n",
        "    def lose_bet(self, bet):\n",
        "        self.total -= bet"
      ],
      "metadata": {
        "id": "malyDQQgaXx7"
      },
      "execution_count": null,
      "outputs": []
    },
    {
      "cell_type": "markdown",
      "source": [
        "Taking bet function"
      ],
      "metadata": {
        "id": "W5zqM1xCaez_"
      }
    },
    {
      "cell_type": "code",
      "source": [
        "def take_bet(chips):\n",
        "    bet_flag = True\n",
        "    while bet_flag:\n",
        "        try: \n",
        "            chips.bet = int(input('enter your betting value:\\n'))\n",
        "            bet_flag = False\n",
        "            # return betting_value\n",
        "        except ValueError:\n",
        "            print('Enter an integer!')\n",
        "        else:\n",
        "            if chips.bet > chips.total:\n",
        "                print('You don\\'t have enough chips!')\n",
        "            else:\n",
        "                break"
      ],
      "metadata": {
        "id": "Od3jhF9EacMD"
      },
      "execution_count": null,
      "outputs": []
    },
    {
      "cell_type": "markdown",
      "source": [
        "A function for taking hits"
      ],
      "metadata": {
        "id": "K2gTCGM9ak8L"
      }
    },
    {
      "cell_type": "code",
      "source": [
        "def hit(deck,hand):\n",
        "\n",
        "    card = deck.deal()\n",
        "    if card == 'Ace':\n",
        "        hand.adjust_for_ace()\n",
        "    else:\n",
        "        hand.add_card(card)"
      ],
      "metadata": {
        "id": "PlUOnvdjagdK"
      },
      "execution_count": null,
      "outputs": []
    },
    {
      "cell_type": "markdown",
      "source": [
        "A function for hit or stand"
      ],
      "metadata": {
        "id": "iSJt9Hfqaq-g"
      }
    },
    {
      "cell_type": "code",
      "source": [
        "def hit_or_stand(deck, hand):\n",
        "    global playing  # to control an upcoming while loop\n",
        "    while playing:\n",
        "        try:\n",
        "            state = bool(int(input('If you want to hit press 1, for stand press 0:\\n')))\n",
        "            \n",
        "        except:\n",
        "            print('only press 0 or 1')\n",
        "\n",
        "        if state:\n",
        "            hit(deck, hand)\n",
        "        else:\n",
        "            playing = False\n",
        "        \n",
        "        for card in hand.cards:\n",
        "            print(card)"
      ],
      "metadata": {
        "id": "RbG1CT2_am-k"
      },
      "execution_count": null,
      "outputs": []
    },
    {
      "cell_type": "markdown",
      "source": [
        "A function for showing player cards"
      ],
      "metadata": {
        "id": "jGtvQ64uazkh"
      }
    },
    {
      "cell_type": "code",
      "source": [
        "def show_some(player,dealer):\n",
        "    print('\\nPlayer cards:')\n",
        "    for card in player.cards:\n",
        "        print('{}'.format(card))\n",
        "    print('\\nFirst card of dealer:')\n",
        "    print('{}'.format(dealer.cards[0]))\n",
        "    print('<hidden card>')\n",
        "    \n",
        "def show_all(player,dealer):\n",
        "    print('\\nPlayer cards, and total value:')\n",
        "    for card in player.cards:\n",
        "        print('{}'.format(card))\n",
        "    print('player cards got a value of: {}'.format(player.value))\n",
        "    print('\\nDealer cards, and total value:')\n",
        "    for card in dealer.cards:\n",
        "        print('{}'.format(card))\n",
        "    print('dealer cards got a value of: {}'.format(dealer.value))\n",
        "    "
      ],
      "metadata": {
        "id": "XIiRx-fnavCa"
      },
      "execution_count": null,
      "outputs": []
    },
    {
      "cell_type": "markdown",
      "source": [
        "End game scenario"
      ],
      "metadata": {
        "id": "fgziznjCa6eu"
      }
    },
    {
      "cell_type": "code",
      "source": [
        "def player_busts():\n",
        "    print('\\nThe player busts! Dealer won this round!\\n') \n",
        "\n",
        "def player_wins():\n",
        "    print('\\nYay! Player won!\\n')\n",
        "\n",
        "def dealer_busts():\n",
        "    print('\\nThe dealer busts! Player won this round!\\n')\n",
        "    \n",
        "def dealer_wins():\n",
        "    print('\\nDealer won!\\n')"
      ],
      "metadata": {
        "id": "E2gKU3pNa3_T"
      },
      "execution_count": null,
      "outputs": []
    },
    {
      "cell_type": "markdown",
      "source": [
        "Starting the game!\n"
      ],
      "metadata": {
        "id": "IyRRyGqDbE3Q"
      }
    },
    {
      "cell_type": "code",
      "source": [
        "playing = True\n",
        "count = 0\n",
        "while True:\n",
        "    # Print an opening statement\n",
        "    print('The game has started!\\n')\n",
        "    \n",
        "    # Create & shuffle the deck, deal two cards to each player\n",
        "    deck = Deck()\n",
        "    deck.shuffle()\n",
        "\n",
        "    player = Hand()\n",
        "    dealer = Hand()\n",
        "\n",
        "    for i in range(2):\n",
        "        card = deck.deal()\n",
        "        player.add_card(card)\n",
        "        card = deck.deal()\n",
        "        dealer.add_card(card)\n",
        "    \n",
        "        \n",
        "    # Set up the Player's chips\n",
        "    if count == 0:\n",
        "        player_chips = Chips()\n",
        "    else:\n",
        "        pass\n",
        "    count += 1\n",
        "    \n",
        "    # Prompt the Player for their bet\n",
        "    take_bet(player_chips)\n",
        "\n",
        "    \n",
        "    # Show cards (but keep one dealer card hidden)\n",
        "    print(\"\\n##############\\n\")\n",
        "    show_some(player, dealer)\n",
        "    \n",
        "    while playing:  # recall this variable from our hit_or_stand function\n",
        "        \n",
        "        # Prompt for Player to Hit or Stand\n",
        "        hit_or_stand(deck, player)\n",
        "        \n",
        "        \n",
        "        # Show cards (but keep one dealer card hidden)\n",
        "        show_some(player, dealer)\n",
        " \n",
        "        \n",
        "        # If player's hand exceeds 21, run player_busts() and break out of loop\n",
        "        if player.value > 21:\n",
        "            playing = False\n",
        "            break\n",
        "\n",
        "    # If Player hasn't busted, play Dealer's hand until Dealer reaches 17\n",
        "        else:\n",
        "            while dealer.value < 18:\n",
        "                card = deck.deal()\n",
        "                dealer.add_card(card)\n",
        "\n",
        "    \n",
        "    \n",
        "        # Show all cards\n",
        "    print(\"\\n-------------------\")\n",
        "    show_all(player, dealer)\n",
        "\n",
        "    # Run different winning scenarios\n",
        "    if dealer.value == 21:\n",
        "        dealer_wins()\n",
        "        player_chips.lose_bet(player_chips.bet)\n",
        "    elif dealer.value > 21:\n",
        "        dealer_busts()\n",
        "        player_chips.win_bet(player_chips.bet)\n",
        "\n",
        "    if player.value == 21:\n",
        "        player_wins()\n",
        "        player_chips.win_bet(player_chips.bet)\n",
        "    elif player.value > 21:\n",
        "        player_busts()\n",
        "        player_chips.lose_bet(player_chips.bet)\n",
        "    \n",
        "    if dealer.value < 21 and player.value < 21:\n",
        "        if player.value > dealer.value:\n",
        "            player_wins()\n",
        "            player_chips.win_bet(player_chips.bet)\n",
        "\n",
        "        elif dealer.value > player.value:\n",
        "            dealer_wins()\n",
        "            player_chips.lose_bet(player_chips.bet)\n",
        "        \n",
        "        else:\n",
        "            print(\"Draw!\")\n",
        "\n",
        "    # Inform Player of their chips total \n",
        "    print('player got {} chips now!\\n'.format(player_chips))\n",
        "\n",
        "    # Ask to play again\n",
        "    print('Thanks for playing!\\n')\n",
        "    try:\n",
        "        status = int(input('Would you like to play again? (if yes press 1)\\n'))\n",
        "    except:\n",
        "        print('press 1 if you would like to play again.\\n')\n",
        "\n",
        "    if status == 1:\n",
        "        playing = True\n",
        "    else: \n",
        "        break"
      ],
      "metadata": {
        "id": "9H-TRnAia8_8"
      },
      "execution_count": null,
      "outputs": []
    },
    {
      "cell_type": "code",
      "source": [],
      "metadata": {
        "id": "sTlHQcxxyR3B"
      },
      "execution_count": null,
      "outputs": []
    }
  ]
}